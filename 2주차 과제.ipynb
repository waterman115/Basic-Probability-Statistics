{
  "cells": [
    {
      "cell_type": "markdown",
      "source": [
        "# 새 섹션"
      ],
      "metadata": {
        "id": "LL4h3gsUDlQZ"
      }
    },
    {
      "cell_type": "code",
      "source": [
        "a=[2,3,4,5,6,]\n",
        "re_a=[]\n",
        "for i in range(len(a)) :\n",
        "    re_a.append(a.pop())\n",
        "\n",
        "print(re_a)"
      ],
      "metadata": {
        "colab": {
          "base_uri": "https://localhost:8080/"
        },
        "id": "EDyJ6vS2Hp4w",
        "outputId": "eda3b0c7-b379-46ab-d795-7e9db3d10caf"
      },
      "execution_count": 5,
      "outputs": [
        {
          "output_type": "stream",
          "name": "stdout",
          "text": [
            "[6, 5, 4, 3, 2]\n"
          ]
        }
      ]
    },
    {
      "cell_type": "code",
      "source": [],
      "metadata": {
        "id": "BUxnwKihIpqm"
      },
      "execution_count": null,
      "outputs": []
    }
  ],
  "metadata": {
    "colab": {
      "name": "Colab 시작하기",
      "provenance": []
    },
    "kernelspec": {
      "display_name": "Python 3",
      "name": "python3"
    }
  },
  "nbformat": 4,
  "nbformat_minor": 0
}