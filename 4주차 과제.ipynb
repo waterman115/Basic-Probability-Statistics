import numpy as np
from statistics import mode
from scipy import stats

# 예제 데이터 집합: 학생들의 시험 점수
exam_scores = [82, 90, 76, 92, 88, 79, 95, 87, 90, 76, 92, 90, 85, 78, 85]

# 평균 계산
mean_score = np.mean(exam_scores)

# 중앙값 계산
median_score = np.median(exam_scores)

# 최빈값 계산
try:
    mode_score = mode(exam_scores)
except:
    mode_score = stats.mode(exam_scores)[0][0]

print(f"평균 점수: {mean_score}")
print(f"중앙값 점수: {median_score}")
print(f"최빈값 점수: {mode_score}")
     
평균 점수: 85.66666666666667
중앙값 점수: 87.0
최빈값 점수: 90

import numpy as np
from scipy.stats import variation

# 예제 데이터 집합
data = [1, 2, 2, 3, 4, 5, 5, 5, 6]

# 범위 계산
data_range = np.max(data) - np.min(data)

# 분산 계산
variance = np.var(data, ddof=0)  # 모집단 분산
sample_variance = np.var(data, ddof=1)  # 표본 분산

# 표준편차 계산
std_deviation = np.std(data, ddof=0)  # 모집단 표준편차
sample_std_deviation = np.std(data, ddof=1)  # 표본 표준편차

# 변동계수 계산 (모집단 기준)
cv = variation(data)  # scipy.stats.variation 사용

print(f"범위: {data_range}")
print(f"분산(모집단): {variance}")
print(f"분산(표본): {sample_variance}")
print(f"표준편차(모집단): {std_deviation}")
print(f"표준편차(표본): {sample_std_deviation}")
print(f"변동계수: {cv}")



     
범위: 5
분산(모집단): 2.6666666666666665
분산(표본): 3.0
표준편차(모집단): 1.632993161855452
표준편차(표본): 1.7320508075688772
변동계수: 0.4453617714151233

import matplotlib.pyplot as plt

# 예제 데이터 집합
data = [1, 2, 2, 3, 4, 5, 5, 5, 6, 7, 8, 9, 10, 11, 12, 13, 14, 15, 20]

# 상자그림 생성
plt.boxplot(data)

# 상자그림에 제목과 축 레이블 추가
plt.title("Boxplot of Data")
plt.ylabel("Values")

# 상자그림 표시
plt.show()

import matplotlib.pyplot as plt

# 예제 데이터 집합
data = [1, 2, 2, 3, 3, 3, 3, 4, 5, 5, 5, 5, 5, 5, 5, 6, 6, 7, 7, 7, 8, 8, 9, 9, 9, 9, 9, 9, 10, 10, 10, 10, 11, 11, 12, 13, 13, 13, 13, 13, 13, 14, 15, 15, 16, 16, 17, 18, 19, 19, 20, 20, 20]

# 히스토그램의 구간(bin) 정의
bins = np.arange(0, max(data) + 1.5) - 0.5

# 히스토그램 생성
plt.hist(data, bins=bins, edgecolor='black')

# 제목과 축 레이블 추가
plt.title('Histogram of Data')
plt.xlabel('Value')
plt.ylabel('Frequency')
     
